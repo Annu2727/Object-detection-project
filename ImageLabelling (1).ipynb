{
 "cells": [
  {
   "cell_type": "code",
   "execution_count": 15,
   "id": "772a0472-c56e-4873-8eca-a8584894b255",
   "metadata": {},
   "outputs": [
    {
     "name": "stdout",
     "output_type": "stream",
     "text": [
      "Requirement already satisfied: opencv-python in c:\\users\\annu\\object-detection\\lib\\site-packages (4.11.0.86)\n",
      "Requirement already satisfied: numpy>=1.21.2 in c:\\users\\annu\\object-detection\\lib\\site-packages (from opencv-python) (2.0.2)\n"
     ]
    },
    {
     "name": "stderr",
     "output_type": "stream",
     "text": [
      "\n",
      "[notice] A new release of pip is available: 23.1.2 -> 25.0.1\n",
      "[notice] To update, run: python.exe -m pip install --upgrade pip\n"
     ]
    }
   ],
   "source": [
    "!pip install opencv-python"
   ]
  },
  {
   "cell_type": "code",
   "execution_count": 16,
   "id": "57567193-b4ae-4a6f-b09d-e8978a6ba218",
   "metadata": {},
   "outputs": [
    {
     "name": "stdout",
     "output_type": "stream",
     "text": [
      "Collecting opencv-python-headless\n",
      "  Using cached opencv_python_headless-4.11.0.86-cp37-abi3-win_amd64.whl (39.4 MB)\n",
      "Requirement already satisfied: numpy>=1.21.2 in c:\\users\\annu\\object-detection\\lib\\site-packages (from opencv-python-headless) (2.0.2)\n",
      "Installing collected packages: opencv-python-headless\n"
     ]
    },
    {
     "name": "stderr",
     "output_type": "stream",
     "text": [
      "ERROR: Could not install packages due to an OSError: [WinError 5] Access is denied: 'C:\\\\Users\\\\annu\\\\Object-detection\\\\Lib\\\\site-packages\\\\cv2\\\\cv2.pyd'\n",
      "Check the permissions.\n",
      "\n",
      "\n",
      "[notice] A new release of pip is available: 23.1.2 -> 25.0.1\n",
      "[notice] To update, run: python.exe -m pip install --upgrade pip\n"
     ]
    }
   ],
   "source": [
    "!pip install opencv-python-headless\n"
   ]
  },
  {
   "cell_type": "code",
   "execution_count": 17,
   "id": "e291a063",
   "metadata": {},
   "outputs": [
    {
     "name": "stdout",
     "output_type": "stream",
     "text": [
      "C:\\Users\\annu\\Object-detection\\Scripts\\python.exe\n"
     ]
    }
   ],
   "source": [
    "import sys\n",
    "print(sys.executable)"
   ]
  },
  {
   "cell_type": "code",
   "execution_count": 18,
   "id": "157a86f3",
   "metadata": {},
   "outputs": [
    {
     "name": "stdout",
     "output_type": "stream",
     "text": [
      "Requirement already satisfied: opencv-python in c:\\users\\annu\\object-detection\\lib\\site-packages (4.11.0.86)\n",
      "Requirement already satisfied: numpy>=1.21.2 in c:\\users\\annu\\object-detection\\lib\\site-packages (from opencv-python) (2.0.2)\n"
     ]
    },
    {
     "name": "stderr",
     "output_type": "stream",
     "text": [
      "\n",
      "[notice] A new release of pip is available: 23.1.2 -> 25.0.1\n",
      "[notice] To update, run: python.exe -m pip install --upgrade pip\n"
     ]
    }
   ],
   "source": [
    "!C:\\Users\\annu\\Object-detection\\Scripts\\python.exe -m pip install opencv-python\n"
   ]
  },
  {
   "cell_type": "code",
   "execution_count": 19,
   "id": "cb11fe3d",
   "metadata": {},
   "outputs": [],
   "source": [
    "import cv2"
   ]
  },
  {
   "cell_type": "code",
   "execution_count": 20,
   "id": "a156cc13",
   "metadata": {},
   "outputs": [],
   "source": [
    "import uuid"
   ]
  },
  {
   "cell_type": "code",
   "execution_count": 21,
   "id": "49141c6b",
   "metadata": {},
   "outputs": [],
   "source": [
    "import os\n",
    "import time"
   ]
  },
  {
   "cell_type": "markdown",
   "id": "775beeae",
   "metadata": {},
   "source": [
    "# Define image to collect"
   ]
  },
  {
   "cell_type": "code",
   "execution_count": 23,
   "id": "5d2dbea2",
   "metadata": {},
   "outputs": [],
   "source": [
    "labels = ['ThumbsUp' , 'ThankYou', 'ThumbsDown','LiveLong']\n",
    "num_img = 5"
   ]
  },
  {
   "cell_type": "markdown",
   "id": "2588e6b4",
   "metadata": {},
   "source": [
    "# Setup folders"
   ]
  },
  {
   "cell_type": "code",
   "execution_count": 24,
   "id": "47d378c2",
   "metadata": {},
   "outputs": [],
   "source": [
    "IMAGES_PATH = os.path.join('Tensorflow', 'workspace', 'images', 'collectedimages')"
   ]
  },
  {
   "cell_type": "code",
   "execution_count": 25,
   "id": "ada1fb29",
   "metadata": {},
   "outputs": [],
   "source": [
    "if not os.path.exists(IMAGES_PATH):\n",
    "    if os.name == 'posix':\n",
    "        !mkdir -p {IMAGES_PATH}\n",
    "    if os.name == 'nt':\n",
    "         !mkdir {IMAGES_PATH}\n",
    "for label in labels:\n",
    "    path = os.path.join(IMAGES_PATH, label)\n",
    "    if not os.path.exists(path):\n",
    "        !mkdir {path}"
   ]
  },
  {
   "cell_type": "markdown",
   "id": "0fa84d30",
   "metadata": {},
   "source": [
    "# Capture images "
   ]
  },
  {
   "cell_type": "code",
   "execution_count": 26,
   "id": "439814b9",
   "metadata": {},
   "outputs": [
    {
     "name": "stdout",
     "output_type": "stream",
     "text": [
      "Collecting images for ThumbsUp\n",
      "Collecting image 0\n",
      "Collecting image 1\n",
      "Collecting image 2\n",
      "Collecting image 3\n",
      "Collecting image 4\n",
      "Collecting images for ThankYou\n",
      "Collecting image 0\n",
      "Collecting image 1\n",
      "Collecting image 2\n",
      "Collecting image 3\n",
      "Collecting image 4\n",
      "Collecting images for ThumbsDown\n",
      "Collecting image 0\n",
      "Collecting image 1\n",
      "Collecting image 2\n",
      "Collecting image 3\n",
      "Collecting image 4\n",
      "Collecting images for LiveLong\n",
      "Collecting image 0\n",
      "Collecting image 1\n",
      "Collecting image 2\n",
      "Collecting image 3\n",
      "Collecting image 4\n"
     ]
    }
   ],
   "source": [
    "for label in labels:\n",
    "    cap = cv2.VideoCapture(0)\n",
    "    print('Collecting images for {}'.format(label))\n",
    "    time.sleep(5)\n",
    "    for imgnum in range(num_img):\n",
    "        print('Collecting image {}'.format(imgnum))\n",
    "        ret, frame = cap.read()\n",
    "        imgname = os.path.join(IMAGES_PATH,label,label+'.'+'{}.jpg'.format(str(uuid.uuid1())))\n",
    "        cv2.imwrite(imgname, frame)\n",
    "        cv2.imshow('frame', frame)\n",
    "        time.sleep(2)\n",
    "\n",
    "        if cv2.waitKey(1) & 0xFF == ord('q'):\n",
    "            break\n",
    "cap.release()\n",
    "cv2.destroyAllWindows()"
   ]
  },
  {
   "cell_type": "markdown",
   "id": "cc48c554",
   "metadata": {},
   "source": [
    "# Image labelling "
   ]
  },
  {
   "cell_type": "code",
   "execution_count": 64,
   "id": "c8b2a541",
   "metadata": {
    "scrolled": true
   },
   "outputs": [
    {
     "name": "stdout",
     "output_type": "stream",
     "text": [
      "Requirement already satisfied: pyqt5 in c:\\users\\annu\\object-detection\\lib\\site-packages (5.15.11)\n",
      "Requirement already satisfied: lxml in c:\\users\\annu\\object-detection\\lib\\site-packages (5.3.1)\n",
      "Requirement already satisfied: PyQt5-sip<13,>=12.15 in c:\\users\\annu\\object-detection\\lib\\site-packages (from pyqt5) (12.17.0)\n",
      "Requirement already satisfied: PyQt5-Qt5<5.16.0,>=5.15.2 in c:\\users\\annu\\object-detection\\lib\\site-packages (from pyqt5) (5.15.2)\n"
     ]
    },
    {
     "name": "stderr",
     "output_type": "stream",
     "text": [
      "\n",
      "[notice] A new release of pip is available: 23.1.2 -> 25.0.1\n",
      "[notice] To update, run: python.exe -m pip install --upgrade pip\n"
     ]
    }
   ],
   "source": [
    "!pip install --upgrade pyqt5 lxml"
   ]
  },
  {
   "cell_type": "code",
   "execution_count": 70,
   "id": "74574920-dc5a-4a41-855c-dc21030e8435",
   "metadata": {},
   "outputs": [
    {
     "name": "stdout",
     "output_type": "stream",
     "text": [
      "Requirement already satisfied: labelImg in c:\\users\\annu\\object-detection\\lib\\site-packages (1.8.6)\n",
      "Requirement already satisfied: pyqt5 in c:\\users\\annu\\object-detection\\lib\\site-packages (from labelImg) (5.15.11)\n",
      "Requirement already satisfied: lxml in c:\\users\\annu\\object-detection\\lib\\site-packages (from labelImg) (5.3.1)\n",
      "Requirement already satisfied: PyQt5-sip<13,>=12.15 in c:\\users\\annu\\object-detection\\lib\\site-packages (from pyqt5->labelImg) (12.17.0)\n",
      "Requirement already satisfied: PyQt5-Qt5<5.16.0,>=5.15.2 in c:\\users\\annu\\object-detection\\lib\\site-packages (from pyqt5->labelImg) (5.15.2)\n",
      "Note: you may need to restart the kernel to use updated packages.\n"
     ]
    },
    {
     "name": "stderr",
     "output_type": "stream",
     "text": [
      "\n",
      "[notice] A new release of pip is available: 23.1.2 -> 25.0.1\n",
      "[notice] To update, run: python.exe -m pip install --upgrade pip\n"
     ]
    }
   ],
   "source": [
    "pip install labelImg"
   ]
  },
  {
   "cell_type": "code",
   "execution_count": 72,
   "id": "62f991da",
   "metadata": {},
   "outputs": [],
   "source": [
    "LABELIMG_PATH = os.path.join('Tensorflow', 'labelImg')"
   ]
  },
  {
   "cell_type": "code",
   "execution_count": 73,
   "id": "ff71a27b",
   "metadata": {},
   "outputs": [
    {
     "name": "stderr",
     "output_type": "stream",
     "text": [
      "Cloning into 'Tensorflow\\labelImg'...\n"
     ]
    }
   ],
   "source": [
    "if not os.path.exists(LABELIMG_PATH):\n",
    "    !mkdir {LABELIMG_PATH}\n",
    "    !git clone https://github.com/tzutalin/labelImg {LABELIMG_PATH}"
   ]
  },
  {
   "cell_type": "code",
   "execution_count": 74,
   "id": "687be8ed",
   "metadata": {},
   "outputs": [],
   "source": [
    "if os.name == 'posix':\n",
    "    !make qt5py3\n",
    "if os.name =='nt':\n",
    "    !cd {LABELIMG_PATH} && pyrcc5 -o libs/resources.py resources.qrc"
   ]
  },
  {
   "cell_type": "code",
   "execution_count": 68,
   "id": "eda8fddf-e5ca-4c39-a7b5-0d39c4e36f12",
   "metadata": {},
   "outputs": [
    {
     "name": "stdout",
     "output_type": "stream",
     "text": [
      "Name: labelImg\n",
      "Version: 1.8.6\n",
      "Summary: LabelImg is a graphical image annotation tool and label object bounding boxes in images\n",
      "Home-page: https://github.com/tzutalin/labelImg\n",
      "Author: TzuTa Lin\n",
      "Author-email: tzu.ta.lin@gmail.com\n",
      "License: MIT license\n",
      "Location: C:\\Users\\annu\\Object-detection\\Lib\\site-packages\n",
      "Requires: lxml, pyqt5\n",
      "Required-by: \n",
      "Note: you may need to restart the kernel to use updated packages.\n"
     ]
    }
   ],
   "source": [
    "pip show labelImg\n"
   ]
  },
  {
   "cell_type": "code",
   "execution_count": 62,
   "id": "1ae3d0d4-db68-4f14-aa85-7f5901e8f720",
   "metadata": {},
   "outputs": [
    {
     "name": "stdout",
     "output_type": "stream",
     "text": [
      "Collecting labelImg\n",
      "  Downloading labelImg-1.8.6.tar.gz (247 kB)\n",
      "                                              0.0/247.7 kB ? eta -:--:--\n",
      "     -                                        10.2/247.7 kB ? eta -:--:--\n",
      "     ----                                  30.7/247.7 kB 325.1 kB/s eta 0:00:01\n",
      "     ------                                41.0/247.7 kB 279.3 kB/s eta 0:00:01\n",
      "     -------------                         92.2/247.7 kB 476.3 kB/s eta 0:00:01\n",
      "     -------------                         92.2/247.7 kB 476.3 kB/s eta 0:00:01\n",
      "     ----------------                     112.6/247.7 kB 435.7 kB/s eta 0:00:01\n",
      "     --------------------                 143.4/247.7 kB 425.3 kB/s eta 0:00:01\n",
      "     ----------------------------------   235.5/247.7 kB 654.9 kB/s eta 0:00:01\n",
      "     -----------------------------------  245.8/247.7 kB 580.1 kB/s eta 0:00:01\n",
      "     ------------------------------------ 247.7/247.7 kB 584.8 kB/s eta 0:00:00\n",
      "  Preparing metadata (setup.py): started\n",
      "  Preparing metadata (setup.py): finished with status 'done'\n",
      "Requirement already satisfied: pyqt5 in c:\\users\\annu\\object-detection\\lib\\site-packages (from labelImg) (5.15.11)\n",
      "Requirement already satisfied: lxml in c:\\users\\annu\\object-detection\\lib\\site-packages (from labelImg) (5.3.1)\n",
      "Requirement already satisfied: PyQt5-sip<13,>=12.15 in c:\\users\\annu\\object-detection\\lib\\site-packages (from pyqt5->labelImg) (12.17.0)\n",
      "Requirement already satisfied: PyQt5-Qt5<5.16.0,>=5.15.2 in c:\\users\\annu\\object-detection\\lib\\site-packages (from pyqt5->labelImg) (5.15.2)\n",
      "Building wheels for collected packages: labelImg\n",
      "  Building wheel for labelImg (setup.py): started\n",
      "  Building wheel for labelImg (setup.py): finished with status 'done'\n",
      "  Created wheel for labelImg: filename=labelImg-1.8.6-py2.py3-none-any.whl size=261578 sha256=3dac2746959c2cd5a4b3f4414a031751384c9bc4cd8671d7c0580d17bf381440\n",
      "  Stored in directory: c:\\users\\annu\\appdata\\local\\pip\\cache\\wheels\\79\\90\\db\\e0700438d3647c0209061d77992c901d3c786a56fec574ac86\n",
      "Successfully built labelImg\n",
      "Installing collected packages: labelImg\n",
      "Successfully installed labelImg-1.8.6\n",
      "Note: you may need to restart the kernel to use updated packages.\n"
     ]
    },
    {
     "name": "stderr",
     "output_type": "stream",
     "text": [
      "\n",
      "[notice] A new release of pip is available: 23.1.2 -> 25.0.1\n",
      "[notice] To update, run: python.exe -m pip install --upgrade pip\n"
     ]
    }
   ],
   "source": [
    "pip install labelImg\n"
   ]
  },
  {
   "cell_type": "code",
   "execution_count": 75,
   "id": "639a3e58",
   "metadata": {},
   "outputs": [
    {
     "name": "stdout",
     "output_type": "stream",
     "text": [
      "Cancel creation.\n",
      "Image:C:\\Users\\annu\\Object-detection\\Tensorflow\\workspace\\images\\collectedimages\\ThumbsUp\\ThumbsUp.dce49581-07bc-11f0-a89f-c01850a265ff.jpg -> Annotation:C:/Users/annu/Object-detection/Tensorflow/workspace/images/collectedimages/ThumbsUp\\ThumbsUp.dce49581-07bc-11f0-a89f-c01850a265ff.xml\n",
      "Image:C:\\Users\\annu\\Object-detection\\Tensorflow\\workspace\\images\\collectedimages\\ThumbsUp\\ThumbsUp.de255b1b-07bc-11f0-ab88-c01850a265ff.jpg -> Annotation:C:/Users/annu/Object-detection/Tensorflow/workspace/images/collectedimages/ThumbsUp\\ThumbsUp.de255b1b-07bc-11f0-ab88-c01850a265ff.xml\n",
      "Image:C:\\Users\\annu\\Object-detection\\Tensorflow\\workspace\\images\\collectedimages\\ThumbsUp\\ThumbsUp.df5a7a74-07bc-11f0-ad68-c01850a265ff.jpg -> Annotation:C:/Users/annu/Object-detection/Tensorflow/workspace/images/collectedimages/ThumbsUp\\ThumbsUp.df5a7a74-07bc-11f0-ad68-c01850a265ff.xml\n",
      "Image:C:\\Users\\annu\\Object-detection\\Tensorflow\\workspace\\images\\collectedimages\\ThumbsUp\\ThumbsUp.e08defc1-07bc-11f0-bb34-c01850a265ff.jpg -> Annotation:C:/Users/annu/Object-detection/Tensorflow/workspace/images/collectedimages/ThumbsUp\\ThumbsUp.e08defc1-07bc-11f0-bb34-c01850a265ff.xml\n",
      "Image:C:\\Users\\annu\\Object-detection\\Tensorflow\\workspace\\images\\collectedimages\\ThumbsUp\\thumpsup.96e2e5c9-070c-11f0-9bab-c01850a265ff.jpg -> Annotation:C:/Users/annu/Object-detection/Tensorflow/workspace/images/collectedimages/ThumbsUp\\thumpsup.96e2e5c9-070c-11f0-9bab-c01850a265ff.xml\n",
      "Image:C:\\Users\\annu\\Object-detection\\Tensorflow\\workspace\\images\\collectedimages\\ThumbsUp\\thumpsup.9825cd43-070c-11f0-9828-c01850a265ff.jpg -> Annotation:C:/Users/annu/Object-detection/Tensorflow/workspace/images/collectedimages/ThumbsUp\\thumpsup.9825cd43-070c-11f0-9828-c01850a265ff.xml\n",
      "Image:C:\\Users\\annu\\Object-detection\\Tensorflow\\workspace\\images\\collectedimages\\ThumbsUp\\thumpsup.ac45d15c-070d-11f0-9a83-c01850a265ff.jpg -> Annotation:C:/Users/annu/Object-detection/Tensorflow/workspace/images/collectedimages/ThumbsUp\\thumpsup.ac45d15c-070d-11f0-9a83-c01850a265ff.xml\n",
      "Image:C:\\Users\\annu\\Object-detection\\Tensorflow\\workspace\\images\\collectedimages\\ThumbsUp\\thumpsup.aeb55afa-070d-11f0-a8f7-c01850a265ff.jpg -> Annotation:C:/Users/annu/Object-detection/Tensorflow/workspace/images/collectedimages/ThumbsUp\\thumpsup.aeb55afa-070d-11f0-a8f7-c01850a265ff.xml\n",
      "Image:C:\\Users\\annu\\Object-detection\\Tensorflow\\workspace\\images\\collectedimages\\ThumbsUp\\thumpsup.ad8140b8-070d-11f0-bc89-c01850a265ff.jpg -> Annotation:C:/Users/annu/Object-detection/Tensorflow/workspace/images/collectedimages/ThumbsUp\\thumpsup.ad8140b8-070d-11f0-bc89-c01850a265ff.xml\n",
      "Image:C:\\Users\\annu\\Object-detection\\Tensorflow\\workspace\\images\\collectedimages\\ThumbsUp\\thumpsup.afe997f5-070d-11f0-be4e-c01850a265ff.jpg -> Annotation:C:/Users/annu/Object-detection/Tensorflow/workspace/images/collectedimages/ThumbsUp\\thumpsup.afe997f5-070d-11f0-be4e-c01850a265ff.xml\n",
      "Image:C:\\Users\\annu\\Object-detection\\Tensorflow\\workspace\\images\\collectedimages\\ThumbsUp\\thumpsup.b11cb343-070d-11f0-9307-c01850a265ff.jpg -> Annotation:C:/Users/annu/Object-detection/Tensorflow/workspace/images/collectedimages/ThumbsUp\\thumpsup.b11cb343-070d-11f0-9307-c01850a265ff.xml\n",
      "Image:C:\\Users\\annu\\Object-detection\\Tensorflow\\workspace\\images\\collectedimages\\ThumbsDown\\Boo.acf4cba2-070c-11f0-852d-c01850a265ff.jpg -> Annotation:C:/Users/annu/Object-detection/Tensorflow/workspace/images/collectedimages/ThumbsDown\\Boo.acf4cba2-070c-11f0-852d-c01850a265ff.xml\n",
      "Image:C:\\Users\\annu\\Object-detection\\Tensorflow\\workspace\\images\\collectedimages\\ThumbsDown\\Boo.ae2a2937-070c-11f0-91aa-c01850a265ff.jpg -> Annotation:C:/Users/annu/Object-detection/Tensorflow/workspace/images/collectedimages/ThumbsDown\\Boo.ae2a2937-070c-11f0-91aa-c01850a265ff.xml\n",
      "Image:C:\\Users\\annu\\Object-detection\\Tensorflow\\workspace\\images\\collectedimages\\ThumbsDown\\Boo.b1ca677e-070c-11f0-9ae9-c01850a265ff.jpg -> Annotation:C:/Users/annu/Object-detection/Tensorflow/workspace/images/collectedimages/ThumbsDown\\Boo.b1ca677e-070c-11f0-9ae9-c01850a265ff.xml\n",
      "Image:C:\\Users\\annu\\Object-detection\\Tensorflow\\workspace\\images\\collectedimages\\ThumbsDown\\Boo.b0957cb9-070c-11f0-8847-c01850a265ff.jpg -> Annotation:C:/Users/annu/Object-detection/Tensorflow/workspace/images/collectedimages/ThumbsDown\\Boo.b0957cb9-070c-11f0-8847-c01850a265ff.xml\n",
      "Image:C:\\Users\\annu\\Object-detection\\Tensorflow\\workspace\\images\\collectedimages\\ThumbsDown\\Boo.c4b2fee3-070d-11f0-9308-c01850a265ff.jpg -> Annotation:C:/Users/annu/Object-detection/Tensorflow/workspace/images/collectedimages/ThumbsDown\\Boo.c4b2fee3-070d-11f0-9308-c01850a265ff.xml\n",
      "Image:C:\\Users\\annu\\Object-detection\\Tensorflow\\workspace\\images\\collectedimages\\ThumbsDown\\Boo.c5e85106-070d-11f0-bb00-c01850a265ff.jpg -> Annotation:C:/Users/annu/Object-detection/Tensorflow/workspace/images/collectedimages/ThumbsDown\\Boo.c5e85106-070d-11f0-bb00-c01850a265ff.xml\n",
      "Image:C:\\Users\\annu\\Object-detection\\Tensorflow\\workspace\\images\\collectedimages\\ThumbsDown\\Boo.c24a1dce-070d-11f0-aa4e-c01850a265ff.jpg -> Annotation:C:/Users/annu/Object-detection/Tensorflow/workspace/images/collectedimages/ThumbsDown\\Boo.c24a1dce-070d-11f0-aa4e-c01850a265ff.xml\n",
      "Image:C:\\Users\\annu\\Object-detection\\Tensorflow\\workspace\\images\\collectedimages\\ThumbsDown\\Boo.c37e4c8a-070d-11f0-bbf9-c01850a265ff.jpg -> Annotation:C:/Users/annu/Object-detection/Tensorflow/workspace/images/collectedimages/ThumbsDown\\Boo.c37e4c8a-070d-11f0-bbf9-c01850a265ff.xml\n",
      "Image:C:\\Users\\annu\\Object-detection\\Tensorflow\\workspace\\images\\collectedimages\\ThumbsDown\\ThumbsDown.f386766e-07bc-11f0-bab1-c01850a265ff.jpg -> Annotation:C:/Users/annu/Object-detection/Tensorflow/workspace/images/collectedimages/ThumbsDown\\ThumbsDown.f386766e-07bc-11f0-bab1-c01850a265ff.xml\n",
      "Image:C:\\Users\\annu\\Object-detection\\Tensorflow\\workspace\\images\\collectedimages\\ThumbsDown\\ThumbsDown.f2535070-07bc-11f0-abd6-c01850a265ff.jpg -> Annotation:C:/Users/annu/Object-detection/Tensorflow/workspace/images/collectedimages/ThumbsDown\\ThumbsDown.f2535070-07bc-11f0-abd6-c01850a265ff.xml\n",
      "Image:C:\\Users\\annu\\Object-detection\\Tensorflow\\workspace\\images\\collectedimages\\ThumbsDown\\ThumbsDown.f7213100-07bc-11f0-8efa-c01850a265ff.jpg -> Annotation:C:/Users/annu/Object-detection/Tensorflow/workspace/images/collectedimages/ThumbsDown\\ThumbsDown.f7213100-07bc-11f0-8efa-c01850a265ff.xml\n",
      "Cancel creation.\n",
      "Image:C:\\Users\\annu\\Object-detection\\Tensorflow\\workspace\\images\\collectedimages\\Thankyou\\Thankyou.b9bbece5-070d-11f0-8b2c-c01850a265ff.jpg -> Annotation:C:/Users/annu/Object-detection/Tensorflow/workspace/images/collectedimages/Thankyou\\Thankyou.b9bbece5-070d-11f0-8b2c-c01850a265ff.xml\n",
      "Image:C:\\Users\\annu\\Object-detection\\Tensorflow\\workspace\\images\\collectedimages\\Thankyou\\Thankyou.baf1af7e-070d-11f0-b5a7-c01850a265ff.jpg -> Annotation:C:/Users/annu/Object-detection/Tensorflow/workspace/images/collectedimages/Thankyou\\Thankyou.baf1af7e-070d-11f0-b5a7-c01850a265ff.xml\n",
      "Image:C:\\Users\\annu\\Object-detection\\Tensorflow\\workspace\\images\\collectedimages\\Thankyou\\Thankyou.bc26efde-070d-11f0-b9cd-c01850a265ff.jpg -> Annotation:C:/Users/annu/Object-detection/Tensorflow/workspace/images/collectedimages/Thankyou\\Thankyou.bc26efde-070d-11f0-b9cd-c01850a265ff.xml\n",
      "Image:C:\\Users\\annu\\Object-detection\\Tensorflow\\workspace\\images\\collectedimages\\Thankyou\\ThankYou.e8b88e08-07bc-11f0-86d7-c01850a265ff.jpg -> Annotation:C:/Users/annu/Object-detection/Tensorflow/workspace/images/collectedimages/Thankyou\\ThankYou.e8b88e08-07bc-11f0-86d7-c01850a265ff.xml\n",
      "Image:C:\\Users\\annu\\Object-detection\\Tensorflow\\workspace\\images\\collectedimages\\Thankyou\\ThankYou.e9eb9ba6-07bc-11f0-b9f2-c01850a265ff.jpg -> Annotation:C:/Users/annu/Object-detection/Tensorflow/workspace/images/collectedimages/Thankyou\\ThankYou.e9eb9ba6-07bc-11f0-b9f2-c01850a265ff.xml\n",
      "Cancel creation.\n",
      "Image:C:\\Users\\annu\\Object-detection\\Tensorflow\\workspace\\images\\collectedimages\\Thankyou\\ThankYou.eb1ef367-07bc-11f0-b37e-c01850a265ff.jpg -> Annotation:C:/Users/annu/Object-detection/Tensorflow/workspace/images/collectedimages/Thankyou\\ThankYou.eb1ef367-07bc-11f0-b37e-c01850a265ff.xml\n",
      "Image:C:\\Users\\annu\\Object-detection\\Tensorflow\\workspace\\images\\collectedimages\\Thankyou\\ThankYou.ec51b630-07bc-11f0-9798-c01850a265ff.jpg -> Annotation:C:/Users/annu/Object-detection/Tensorflow/workspace/images/collectedimages/Thankyou\\ThankYou.ec51b630-07bc-11f0-9798-c01850a265ff.xml\n",
      "Image:C:\\Users\\annu\\Object-detection\\Tensorflow\\workspace\\images\\collectedimages\\ThumbsDown\\ThumbsDown.f5ed9f88-07bc-11f0-8b5e-c01850a265ff.jpg -> Annotation:C:/Users/annu/Object-detection/Tensorflow/workspace/images/collectedimages/ThumbsDown\\ThumbsDown.f5ed9f88-07bc-11f0-8b5e-c01850a265ff.xml\n",
      "Image:C:\\Users\\annu\\Object-detection\\Tensorflow\\workspace\\images\\collectedimages\\ThumbsDown\\Boo.c71c5929-070d-11f0-82da-c01850a265ff.jpg -> Annotation:C:/Users/annu/Object-detection/Tensorflow/workspace/images/collectedimages/ThumbsDown\\Boo.c71c5929-070d-11f0-82da-c01850a265ff.xml\n",
      "Image:C:\\Users\\annu\\Object-detection\\Tensorflow\\workspace\\images\\collectedimages\\ThumbsDown\\Boo.c37e4c8a-070d-11f0-bbf9-c01850a265ff.jpg -> Annotation:C:/Users/annu/Object-detection/Tensorflow/workspace/images/collectedimages/ThumbsDown\\Boo.c37e4c8a-070d-11f0-bbf9-c01850a265ff.xml\n",
      "Image:C:\\Users\\annu\\Object-detection\\Tensorflow\\workspace\\images\\collectedimages\\ThumbsDown\\ThumbsDown.f7213100-07bc-11f0-8efa-c01850a265ff.jpg -> Annotation:C:/Users/annu/Object-detection/Tensorflow/workspace/images/collectedimages/ThumbsDown\\ThumbsDown.f7213100-07bc-11f0-8efa-c01850a265ff.xml\n",
      "Image:C:\\Users\\annu\\Object-detection\\Tensorflow\\workspace\\images\\collectedimages\\ThumbsDown\\ThumbsDown.f2535070-07bc-11f0-abd6-c01850a265ff.jpg -> Annotation:C:/Users/annu/Object-detection/Tensorflow/workspace/images/collectedimages/ThumbsDown\\ThumbsDown.f2535070-07bc-11f0-abd6-c01850a265ff.xml\n",
      "Image:C:\\Users\\annu\\Object-detection\\Tensorflow\\workspace\\images\\collectedimages\\ThumbsDown\\ThumbsDown.f386766e-07bc-11f0-bab1-c01850a265ff.jpg -> Annotation:C:/Users/annu/Object-detection/Tensorflow/workspace/images/collectedimages/ThumbsDown\\ThumbsDown.f386766e-07bc-11f0-bab1-c01850a265ff.xml\n",
      "Image:C:\\Users\\annu\\Object-detection\\Tensorflow\\workspace\\images\\collectedimages\\ThumbsDown\\ThumbsDown.f5ed9f88-07bc-11f0-8b5e-c01850a265ff.jpg -> Annotation:C:/Users/annu/Object-detection/Tensorflow/workspace/images/collectedimages/ThumbsDown\\ThumbsDown.f5ed9f88-07bc-11f0-8b5e-c01850a265ff.xml\n",
      "Image:C:\\Users\\annu\\Object-detection\\Tensorflow\\workspace\\images\\collectedimages\\ThumbsDown\\Boo.c71c5929-070d-11f0-82da-c01850a265ff.jpg -> Annotation:C:/Users/annu/Object-detection/Tensorflow/workspace/images/collectedimages/ThumbsDown\\Boo.c71c5929-070d-11f0-82da-c01850a265ff.xml\n",
      "Image:C:\\Users\\annu\\Object-detection\\Tensorflow\\workspace\\images\\collectedimages\\ThumbsDown\\Boo.c24a1dce-070d-11f0-aa4e-c01850a265ff.jpg -> Annotation:C:/Users/annu/Object-detection/Tensorflow/workspace/images/collectedimages/ThumbsDown\\Boo.c24a1dce-070d-11f0-aa4e-c01850a265ff.xml\n",
      "Image:C:\\Users\\annu\\Object-detection\\Tensorflow\\workspace\\images\\collectedimages\\ThumbsDown\\Boo.c5e85106-070d-11f0-bb00-c01850a265ff.jpg -> Annotation:C:/Users/annu/Object-detection/Tensorflow/workspace/images/collectedimages/ThumbsDown\\Boo.c5e85106-070d-11f0-bb00-c01850a265ff.xml\n",
      "Image:C:\\Users\\annu\\Object-detection\\Tensorflow\\workspace\\images\\collectedimages\\ThumbsDown\\Boo.c4b2fee3-070d-11f0-9308-c01850a265ff.jpg -> Annotation:C:/Users/annu/Object-detection/Tensorflow/workspace/images/collectedimages/ThumbsDown\\Boo.c4b2fee3-070d-11f0-9308-c01850a265ff.xml\n",
      "Image:C:\\Users\\annu\\Object-detection\\Tensorflow\\workspace\\images\\collectedimages\\ThumbsDown\\Boo.b0957cb9-070c-11f0-8847-c01850a265ff.jpg -> Annotation:C:/Users/annu/Object-detection/Tensorflow/workspace/images/collectedimages/ThumbsDown\\Boo.b0957cb9-070c-11f0-8847-c01850a265ff.xml\n",
      "Image:C:\\Users\\annu\\Object-detection\\Tensorflow\\workspace\\images\\collectedimages\\ThumbsDown\\Boo.b1ca677e-070c-11f0-9ae9-c01850a265ff.jpg -> Annotation:C:/Users/annu/Object-detection/Tensorflow/workspace/images/collectedimages/ThumbsDown\\Boo.b1ca677e-070c-11f0-9ae9-c01850a265ff.xml\n",
      "Image:C:\\Users\\annu\\Object-detection\\Tensorflow\\workspace\\images\\collectedimages\\livelong\\LiveLong.01c40fd5-07bd-11f0-b977-c01850a265ff.jpg -> Annotation:C:/Users/annu/Object-detection/Tensorflow/workspace/images/collectedimages/livelong\\LiveLong.01c40fd5-07bd-11f0-b977-c01850a265ff.xml\n",
      "Image:C:\\Users\\annu\\Object-detection\\Tensorflow\\workspace\\images\\collectedimages\\livelong\\LiveLong.009119a3-07bd-11f0-92ee-c01850a265ff.jpg -> Annotation:C:/Users/annu/Object-detection/Tensorflow/workspace/images/collectedimages/livelong\\LiveLong.009119a3-07bd-11f0-92ee-c01850a265ff.xml\n",
      "Image:C:\\Users\\annu\\Object-detection\\Tensorflow\\workspace\\images\\collectedimages\\livelong\\livelong.86775645-070c-11f0-a6cb-c01850a265ff.jpg -> Annotation:C:/Users/annu/Object-detection/Tensorflow/workspace/images/collectedimages/livelong\\livelong.86775645-070c-11f0-a6cb-c01850a265ff.xml\n",
      "Image:C:\\Users\\annu\\Object-detection\\Tensorflow\\workspace\\images\\collectedimages\\livelong\\livelong.cd3f86c8-070d-11f0-882b-c01850a265ff.jpg -> Annotation:C:/Users/annu/Object-detection/Tensorflow/workspace/images/collectedimages/livelong\\livelong.cd3f86c8-070d-11f0-882b-c01850a265ff.xml\n",
      "Cancel creation.\n",
      "Image:C:\\Users\\annu\\Object-detection\\Tensorflow\\workspace\\images\\collectedimages\\livelong\\livelong.ce743ff8-070d-11f0-8573-c01850a265ff.jpg -> Annotation:C:/Users/annu/Object-detection/Tensorflow/workspace/images/collectedimages/livelong\\livelong.ce743ff8-070d-11f0-8573-c01850a265ff.xml\n",
      "Cancel creation.\n",
      "Image:C:\\Users\\annu\\Object-detection\\Tensorflow\\workspace\\images\\collectedimages\\livelong\\livelong.cfaa40cc-070d-11f0-8a6b-c01850a265ff.jpg -> Annotation:C:/Users/annu/Object-detection/Tensorflow/workspace/images/collectedimages/livelong\\livelong.cfaa40cc-070d-11f0-8a6b-c01850a265ff.xml\n",
      "Image:C:\\Users\\annu\\Object-detection\\Tensorflow\\workspace\\images\\collectedimages\\livelong\\livelong.d0df3fcc-070d-11f0-99ac-c01850a265ff.jpg -> Annotation:C:/Users/annu/Object-detection/Tensorflow/workspace/images/collectedimages/livelong\\livelong.d0df3fcc-070d-11f0-99ac-c01850a265ff.xml\n",
      "Image:C:\\Users\\annu\\Object-detection\\Tensorflow\\workspace\\images\\collectedimages\\livelong\\livelong.d213d973-070d-11f0-bcfc-c01850a265ff.jpg -> Annotation:C:/Users/annu/Object-detection/Tensorflow/workspace/images/collectedimages/livelong\\livelong.d213d973-070d-11f0-bcfc-c01850a265ff.xml\n",
      "Image:C:\\Users\\annu\\Object-detection\\Tensorflow\\workspace\\images\\collectedimages\\livelong\\LiveLong.fe2abfef-07bc-11f0-a526-c01850a265ff.jpg -> Annotation:C:/Users/annu/Object-detection/Tensorflow/workspace/images/collectedimages/livelong\\LiveLong.fe2abfef-07bc-11f0-a526-c01850a265ff.xml\n",
      "Image:C:\\Users\\annu\\Object-detection\\Tensorflow\\workspace\\images\\collectedimages\\livelong\\LiveLong.ff5dbdc0-07bc-11f0-8fd7-c01850a265ff.jpg -> Annotation:C:/Users/annu/Object-detection/Tensorflow/workspace/images/collectedimages/livelong\\LiveLong.ff5dbdc0-07bc-11f0-8fd7-c01850a265ff.xml\n"
     ]
    }
   ],
   "source": [
    "!cd {LABELIMG_PATH} && python labelImg.py"
   ]
  },
  {
   "cell_type": "markdown",
   "id": "32b366c1",
   "metadata": {},
   "source": [
    "# Move them into a Training and Testing Partition"
   ]
  },
  {
   "cell_type": "code",
   "execution_count": 76,
   "id": "55ffc699",
   "metadata": {},
   "outputs": [],
   "source": [
    "TRAIN_PATH = os.path.join('Tensorflow', 'workspace', 'images', 'train')\n",
    "TEST_PATH = os.path.join('Tensorflow', 'workspace', 'images', 'test')\n",
    "ARCHIVE_PATH = os.path.join('Tensorflow', 'workspace', 'images', 'archive.tar.gz')"
   ]
  },
  {
   "cell_type": "code",
   "execution_count": 77,
   "id": "bd5a0c04",
   "metadata": {},
   "outputs": [],
   "source": [
    "!tar -czf {ARCHIVE_PATH} {TRAIN_PATH} {TEST_PATH}"
   ]
  },
  {
   "cell_type": "code",
   "execution_count": null,
   "id": "cf81e248",
   "metadata": {},
   "outputs": [],
   "source": []
  }
 ],
 "metadata": {
  "kernelspec": {
   "display_name": "Python (Object-detection)",
   "language": "python",
   "name": "myenv"
  },
  "language_info": {
   "codemirror_mode": {
    "name": "ipython",
    "version": 3
   },
   "file_extension": ".py",
   "mimetype": "text/x-python",
   "name": "python",
   "nbconvert_exporter": "python",
   "pygments_lexer": "ipython3",
   "version": "3.11.4"
  }
 },
 "nbformat": 4,
 "nbformat_minor": 5
}
